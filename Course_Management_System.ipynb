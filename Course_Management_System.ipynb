{
 "cells": [
  {
   "cell_type": "code",
   "execution_count": 6,
   "id": "e42ab61f-9ef7-4770-9674-e0d7d2ba998b",
   "metadata": {
    "scrolled": true
   },
   "outputs": [
    {
     "name": "stdin",
     "output_type": "stream",
     "text": [
      "Enter a course:  Mathematics\n",
      "Enter an Instrusctor:  Josh\n",
      "Enter a name:  Patrick'\n"
     ]
    },
    {
     "name": "stdout",
     "output_type": "stream",
     "text": [
      "The Average grade is : 85.0.\n",
      "patrick' has been enrolled in the mathematics course.\n",
      "Course: mathematics\n",
      "Instructor Name: josh\n",
      "Enrolled students: patrick'\n",
      "Josh is not enrolled in this course\n"
     ]
    }
   ],
   "source": [
    "class OnlineCourse:\n",
    "    def __init__(self, course, instructor):\n",
    "        self.course = course\n",
    "        self.instructor = instructor\n",
    "        self.students =  []\n",
    "\n",
    "    def enroll_students(self, name):\n",
    "        self.students.append(name)\n",
    "        print(f\"{name} has been enrolled in the {self.course} course.\")\n",
    "\n",
    "    def course_details(self):\n",
    "        print(f\"Course: {self.course}\")\n",
    "        print(f\"Instructor Name: {self.instructor}\")\n",
    "        print(f\"Enrolled students: {', '.join(self.students)}\")\n",
    "        \n",
    "    def completed_course(self, name):\n",
    "        if name in self.students:\n",
    "            self.students.remove(name)\n",
    "            print(f\"{name} has completed the course\")\n",
    "        else:\n",
    "            print(f\"{name} is not enrolled in this course\")\n",
    "\n",
    "    def avg_grade(self, grades):\n",
    "        total = sum(grades)\n",
    "        average = total / len(grades)\n",
    "        print(f\"The Average grade is : {average}.\")\n",
    "\n",
    "\n",
    "course_input = input(\"Enter a course: \").lower()\n",
    "name = input(\"Enter an Instrusctor: \" ).lower()\n",
    "student = input(\"Enter a name: \" ).lower()\n",
    "\n",
    "course = OnlineCourse(course_input, name)\n",
    "grades = [ 90, 85, 92, 78, 80]\n",
    "course.avg_grade(grades)\n",
    "course.enroll_students(student)\n",
    "course.course_details()\n",
    "\n",
    "course.completed_course(name = 'Josh')\n"
   ]
  },
  {
   "cell_type": "code",
   "execution_count": null,
   "id": "59721971-d23d-444b-9b66-3dfebe9cd37d",
   "metadata": {},
   "outputs": [],
   "source": []
  }
 ],
 "metadata": {
  "kernelspec": {
   "display_name": "Python 3 (ipykernel)",
   "language": "python",
   "name": "python3"
  },
  "language_info": {
   "codemirror_mode": {
    "name": "ipython",
    "version": 3
   },
   "file_extension": ".py",
   "mimetype": "text/x-python",
   "name": "python",
   "nbconvert_exporter": "python",
   "pygments_lexer": "ipython3",
   "version": "3.11.7"
  }
 },
 "nbformat": 4,
 "nbformat_minor": 5
}
