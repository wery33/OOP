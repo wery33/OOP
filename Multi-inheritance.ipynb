{
 "cells": [
  {
   "cell_type": "code",
   "execution_count": 20,
   "id": "ba99053e-25b2-45a6-ad52-4e4e98a63d92",
   "metadata": {},
   "outputs": [
    {
     "name": "stdout",
     "output_type": "stream",
     "text": [
      "Battery Capacity: 5 kWh\n",
      "Fuel Capacity: 40 gallons\n",
      "Battery Range: 25 miles\n",
      "Fuel Range : 800 miles\n"
     ]
    }
   ],
   "source": [
    "class Vehicle:\n",
    "    def __init__(self, make, model, year):\n",
    "        self.make = make\n",
    "        self.model = model\n",
    "        self.year = year\n",
    "\n",
    "class ElectricCar:\n",
    "    def __init__(self, battery_capacity):\n",
    "        self.battery_cap = battery_capacity\n",
    "\n",
    "    def charge(self):\n",
    "        return self.battery_cap\n",
    "\n",
    "    def get_range(self):\n",
    "        return self.battery_cap * 5\n",
    "\n",
    "class GasCar:\n",
    "    def __init__(self, fuel_capacity):\n",
    "        self.fuel_cap = fuel_capacity\n",
    "\n",
    "    def refuel(self):\n",
    "        return self.fuel_cap\n",
    "\n",
    "    def get_fuel_range(self):\n",
    "        return self.fuel_cap * 20\n",
    "\n",
    "class Hybrid(Vehicle, ElectricCar, GasCar):\n",
    "    def __init__(self, make, model, year,battery_capacity,fuel_capacity):\n",
    "        Vehicle.__init__(self,make, model, year)\n",
    "        ElectricCar.__init__(self,battery_capacity)\n",
    "        GasCar.__init__(self,fuel_capacity)\n",
    "\n",
    "\n",
    "car = Hybrid(\"Toyota\", \"Prius\", 2023, 5, 40)\n",
    "battery_capacity = car.charge()\n",
    "fuel_cap = car.refuel()\n",
    "battery_range = car.get_range()\n",
    "fuel_range = car.get_fuel_range()\n",
    "\n",
    "print(f\"Battery Capacity: {battery_capacity} kWh\")\n",
    "print(f\"Fuel Capacity: {fuel_cap} gallons\")\n",
    "print(f\"Battery Range: {battery_range} miles\")\n",
    "print(f\"Fuel Range : {fuel_range} miles\")\n",
    "\n",
    "\n",
    "\n",
    "\n",
    "\n",
    "\n",
    "\n",
    "\n",
    "\n",
    "                 "
   ]
  },
  {
   "cell_type": "code",
   "execution_count": null,
   "id": "672af902-a71e-46b8-bc23-39fb1cb10ead",
   "metadata": {},
   "outputs": [],
   "source": []
  },
  {
   "cell_type": "code",
   "execution_count": 25,
   "id": "4713e14f-8700-4742-9e9b-363cdfbe2176",
   "metadata": {},
   "outputs": [
    {
     "name": "stdout",
     "output_type": "stream",
     "text": [
      "The name of our beloved family is called the Ansah family.\n",
      "My parents are Mr & Mrs Ansah and I have sibblings.\n",
      "My brother is called Kofi and my sister is Zera.\n",
      "\n",
      "The son is called Kofi.\n",
      "The daughter is called Zera.\n"
     ]
    }
   ],
   "source": [
    "class Family:\n",
    "    def __init__(self, name, age):\n",
    "        self.name = name\n",
    "        self.age = age\n",
    "\n",
    "    def info(self):\n",
    "        print(f\"My name is: {self.name}\")\n",
    "        print(f\"I am {self.age} years old.\")\n",
    "\n",
    "class Parent:\n",
    "    def __init__(self, parent_name):\n",
    "        self.parent_name = parent_name\n",
    "\n",
    "    def par_nam(self):\n",
    "        print(f\"The name of my parent is {self.parent_name}\")\n",
    "\n",
    "class Child:\n",
    "    def __init__(self, son_name, daugh_name):\n",
    "        self.son_name = son_name\n",
    "        self.daugh_name = daugh_name\n",
    "\n",
    "    def child_nam(self):\n",
    "        print(f\"The son is called {self.son_name}.\")\n",
    "        print(f\"The daughter is called {self.daugh_name}.\")\n",
    "\n",
    "class Entire(Family , Parent, Child):\n",
    "    def __init__(self, name, age, parent_name, son_name, daugh_name):\n",
    "        Family.__init__(self, name, age)\n",
    "        Parent.__init__(self, parent_name)\n",
    "        Child.__init__(self, son_name, daugh_name)\n",
    "\n",
    "    def entire_display(self):\n",
    "        print(f\"The name of our beloved family is called the {self.name} family.\")\n",
    "        print(f\"My parents are {self.parent_name} and I have sibblings.\")\n",
    "        print(f\"My brother is called {self.son_name} and my sister is {self.daugh_name}.\")\n",
    "    \n",
    "        \n",
    "\n",
    "me = Entire(\"Ansah\", 500, \"Mr & Mrs Ansah\", \"Kofi\", \"Zera\")\n",
    "me.entire_display()\n",
    "print()\n",
    "me.child_nam()"
   ]
  },
  {
   "cell_type": "code",
   "execution_count": null,
   "id": "672bb04b-979d-4b2e-abb2-6b06a8e2ac05",
   "metadata": {},
   "outputs": [],
   "source": []
  }
 ],
 "metadata": {
  "kernelspec": {
   "display_name": "Python 3 (ipykernel)",
   "language": "python",
   "name": "python3"
  },
  "language_info": {
   "codemirror_mode": {
    "name": "ipython",
    "version": 3
   },
   "file_extension": ".py",
   "mimetype": "text/x-python",
   "name": "python",
   "nbconvert_exporter": "python",
   "pygments_lexer": "ipython3",
   "version": "3.11.7"
  }
 },
 "nbformat": 4,
 "nbformat_minor": 5
}
