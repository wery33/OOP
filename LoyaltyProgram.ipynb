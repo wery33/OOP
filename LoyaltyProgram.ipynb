{
 "cells": [
  {
   "cell_type": "code",
   "execution_count": 7,
   "id": "a14bd541-043a-45b4-b549-eac86cfa586f",
   "metadata": {},
   "outputs": [
    {
     "name": "stdin",
     "output_type": "stream",
     "text": [
      "Enter a number of guests:  2\n",
      "First Name /Last Name/Rank/Age:  Pat/Ansah/8/36\n",
      "First Name /Last Name/Rank/Age:  Anna/Bryant/4/43\n"
     ]
    },
    {
     "name": "stdout",
     "output_type": "stream",
     "text": [
      "Pat Ansah Age: 36\n",
      "Anna Bryant Age: 43\n",
      "Average customer age: 39.5\n"
     ]
    }
   ],
   "source": [
    "class Guest:\n",
    "    def __init__(self,  first, last, rank, age):\n",
    "        self.last_name = last\n",
    "        self.first_name = first\n",
    "        self.rank = int(rank)\n",
    "        self.age = int(age)\n",
    "\n",
    "    def guest_info(self, all_guests):\n",
    "        for guest in all_guests:\n",
    "            print(guest.first_name, guest.last_name, \"Age:\", guest.age)\n",
    "\n",
    "    def loyalty_program(self,all_guests):\n",
    "        # Gold member <= 10\n",
    "        # 1. Create a list for any guest who meets certain conditions\n",
    "        # 2. For every guest in my list, add their last name to the list\n",
    "        # 3. This condition must be met in order to be added to the list\n",
    "        \n",
    "        gold_members = [guest.last_name for guest in all_guests if guest.rank >= 10]\n",
    "        if gold_members:\n",
    "            print(\"Gold Members:\")\n",
    "            for member in gold_members:\n",
    "                print(\"\\tGuest :\", member)\n",
    "\n",
    "    def guest_avg(self, all_guests):\n",
    "        total_age = 0\n",
    "        for guest in all_guests:\n",
    "            total_age += guest.age\n",
    "        avg_age = total_age/len(all_guests)\n",
    "        print(\"Average customer age:\" , avg_age)\n",
    "\n",
    "all_guests = list()\n",
    "num_guests = int(input(\"Enter a number of guests: \"))\n",
    "for i in range(num_guests):\n",
    "    data = input(\"First Name /Last Name/Rank/Age: \").split(\"/\")\n",
    "    # [\"John, Doe, 8, 45 \"]\n",
    "    guest = Guest(data[0], data[1], int(data[2]), int(data[3]))\n",
    "    all_guests.append(guest)\n",
    "\n",
    "guest = all_guests[0]\n",
    "guest.loyalty_program(all_guests)\n",
    "guest.guest_info(all_guests)\n",
    "guest.guest_avg(all_guests)\n",
    "        "
   ]
  },
  {
   "cell_type": "code",
   "execution_count": null,
   "id": "7f78a329-bc0f-4fc7-99da-605bec86ef72",
   "metadata": {},
   "outputs": [],
   "source": []
  }
 ],
 "metadata": {
  "kernelspec": {
   "display_name": "Python 3 (ipykernel)",
   "language": "python",
   "name": "python3"
  },
  "language_info": {
   "codemirror_mode": {
    "name": "ipython",
    "version": 3
   },
   "file_extension": ".py",
   "mimetype": "text/x-python",
   "name": "python",
   "nbconvert_exporter": "python",
   "pygments_lexer": "ipython3",
   "version": "3.11.7"
  }
 },
 "nbformat": 4,
 "nbformat_minor": 5
}
