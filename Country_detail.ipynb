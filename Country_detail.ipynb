{
 "cells": [
  {
   "cell_type": "code",
   "execution_count": 17,
   "id": "e2284c08-2144-40a2-abc9-2143d2d497cd",
   "metadata": {},
   "outputs": [
    {
     "name": "stdout",
     "output_type": "stream",
     "text": [
      " Country Info:\n",
      "Name : United States\n",
      "Capital : Washington\n",
      "Population : 33100000\n",
      "GDP : 22502000\n"
     ]
    }
   ],
   "source": [
    "class Country:\n",
    "    def __init__ (self, name, capital, population):\n",
    "        self.name = name\n",
    "        self.capital = capital\n",
    "        self.population = population\n",
    "\n",
    "       def get_info(self):\n",
    "        return {\n",
    "            \"Name\" : self.name,\n",
    "            \"Capital\" : self.capital,\n",
    "            \"Population\" : self.population\n",
    "        }\n",
    "class DevelopedCountry(Country):\n",
    "    def __init__(self, name, capital, population, gdp):\n",
    "        super().__init__(name, capital, population)\n",
    "        self.gdp = gdp\n",
    "\n",
    "    def get_info(self):\n",
    "        info = super().get_info()\n",
    "        info[\"GDP\"] = self.gdp\n",
    "        return info\n",
    "\n",
    "class DevelopingCountry(Country):\n",
    "    def __init__(self,name, capital, population, hdi):\n",
    "        super().__init__(name, capital, population)\n",
    "        self.hdi = hdi\n",
    "\n",
    "    def get_info(self):\n",
    "        info = super().get_info()\n",
    "        info[\"HDI\"] = self.hdi\n",
    "        return info\n",
    "\n",
    "class World:\n",
    "    def __init__(self):\n",
    "        self.countries = []\n",
    "\n",
    "    def add_country(self, country):\n",
    "        self.countries.append(country)\n",
    "\n",
    "    def get_country_info(self, name):\n",
    "        for country in self.countries:\n",
    "            if country.name == name:\n",
    "                return country.get_info()\n",
    "        return None\n",
    "\n",
    "world = World()\n",
    "\n",
    "usa = DevelopedCountry(\"United States\", \"Washington\", 33100000, 22502000)\n",
    "india = DevelopingCountry(\"India\", \"New Delhi\", 130000, 2495)\n",
    "china = DevelopingCountry(\"China\", \"Beijinh\", 1444445543, 0.754)\n",
    "\n",
    "world.add_country(usa)\n",
    "world.add_country(india)\n",
    "world.add_country(china)\n",
    "\n",
    "country_info = world.get_country_info(\"United States\")\n",
    "\n",
    "if country_info:\n",
    "    print(\" Country Info:\")\n",
    "    for key,value in country_info.items():\n",
    "        print(f\"{key} : {value}\")\n",
    "    else:\n",
    "        print(\"Country not found\")\n",
    "\n",
    "\n",
    "    \n",
    "        "
   ]
  },
  {
   "cell_type": "code",
   "execution_count": null,
   "id": "baecd60a-89d8-44ab-b6c8-e5a2391ca2b4",
   "metadata": {},
   "outputs": [],
   "source": []
  }
 ],
 "metadata": {
  "kernelspec": {
   "display_name": "Python 3 (ipykernel)",
   "language": "python",
   "name": "python3"
  },
  "language_info": {
   "codemirror_mode": {
    "name": "ipython",
    "version": 3
   },
   "file_extension": ".py",
   "mimetype": "text/x-python",
   "name": "python",
   "nbconvert_exporter": "python",
   "pygments_lexer": "ipython3",
   "version": "3.11.7"
  }
 },
 "nbformat": 4,
 "nbformat_minor": 5
}
