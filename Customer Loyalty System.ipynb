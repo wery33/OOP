{
 "cells": [
  {
   "cell_type": "code",
   "execution_count": 9,
   "id": "58394958-5af1-44f3-930a-9034119243ee",
   "metadata": {},
   "outputs": [
    {
     "name": "stdout",
     "output_type": "stream",
     "text": [
      "T-001 Patrick +40000\n",
      "T-001 Patrick +12500\n",
      "Customer ID: VIP01\n",
      "Customer Name: Patrick\n",
      "Loyalty  Point Balance: 27500\n"
     ]
    }
   ],
   "source": [
    "class Customer :\n",
    "    def __init__(self, customer_id, name):\n",
    "        self.customer_id = customer_id\n",
    "        self.name =name\n",
    "\n",
    "class LoyaltyPoints:\n",
    "    def __init__(self):\n",
    "        self.points =0\n",
    "\n",
    "    def earn_points(self, amount):\n",
    "        self.points += amount\n",
    "\n",
    "    def redeem_points(self, amount):\n",
    "        if self.points >= amount:\n",
    "            self.points -= amount\n",
    "        else:\n",
    "            print(\"Not Enough Points\")\n",
    "\n",
    "    def show_point_balance(self):\n",
    "        return self.points\n",
    "\n",
    "class VIPcustomer(Customer,LoyaltyPoints):\n",
    "    def __init__(self, customer_id, name):\n",
    "        Customer.__init__(self, customer_id, name)\n",
    "        LoyaltyPoints.__init__(self)\n",
    "\n",
    "class Transaction:\n",
    "    def __init__(self, transaction_id, customer, amount):\n",
    "        self.transaction_id = transaction_id\n",
    "        self.customer = customer\n",
    "        self.amount = amount\n",
    "\n",
    "class TransactionHistory:\n",
    "    def __init__(self):\n",
    "        self.transactions = []\n",
    "\n",
    "    def add_transcations(self, transaction):\n",
    "        self.transactions.append(transaction)\n",
    "\n",
    "    def show_transactions(self):\n",
    "        for transaction in self.transactions:\n",
    "            print(transaction.transaction_id, transaction.customer.name, transaction.amount)\n",
    "\n",
    "vip = VIPcustomer(\"VIP01\", \"Patrick\")\n",
    "vip.earn_points(40000)\n",
    "vip.redeem_points(12500)\n",
    "\n",
    "transaction1 = Transaction(\"T-001\", vip, \"+40000\")\n",
    "transaction2 = Transaction(\"T-001\", vip, \"+12500\")\n",
    "\n",
    "transaction_history = TransactionHistory()\n",
    "transaction_history.add_transcations(transaction1)\n",
    "transaction_history.add_transcations(transaction2)\n",
    "\n",
    "transaction_history.show_transactions()\n",
    "balance = vip.show_point_balance()\n",
    "print(f\"Customer ID: {vip.customer_id}\")\n",
    "print(f\"Customer Name: {vip.name}\")\n",
    "print(f\"Loyalty  Point Balance: {balance}\")\n",
    "\n",
    "\n",
    "\n",
    "\n",
    "\n",
    "\n",
    "\n",
    "\n",
    "\n",
    "    \n",
    "        \n",
    "\n",
    "\n",
    "        "
   ]
  },
  {
   "cell_type": "code",
   "execution_count": null,
   "id": "3e60cdd0-3342-4f27-a8d4-4b1edf30d384",
   "metadata": {},
   "outputs": [],
   "source": []
  }
 ],
 "metadata": {
  "kernelspec": {
   "display_name": "Python 3 (ipykernel)",
   "language": "python",
   "name": "python3"
  },
  "language_info": {
   "codemirror_mode": {
    "name": "ipython",
    "version": 3
   },
   "file_extension": ".py",
   "mimetype": "text/x-python",
   "name": "python",
   "nbconvert_exporter": "python",
   "pygments_lexer": "ipython3",
   "version": "3.11.7"
  }
 },
 "nbformat": 4,
 "nbformat_minor": 5
}
