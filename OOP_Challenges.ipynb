{
 "cells": [
  {
   "cell_type": "code",
   "execution_count": 19,
   "id": "19ebf02b-8af2-410d-aada-bb91c66a309a",
   "metadata": {},
   "outputs": [
    {
     "name": "stdout",
     "output_type": "stream",
     "text": [
      "welcome owner\n",
      "your storage is : 256\n",
      "Updated storage is : 300\n",
      "You are not a user\n",
      "You still have : 116\n"
     ]
    }
   ],
   "source": [
    "class App:\n",
    "    def __init__(self, users, storage, username):\n",
    "        self.users= users\n",
    "        self.storage = storage\n",
    "        self.username = username\n",
    "\n",
    "    def login(self):\n",
    "        if self.username == 'owner' and self.users >= 1:\n",
    "            print(\"welcome\", self.username)\n",
    "            print(\"your storage is :\", self.storage)\n",
    "        else:\n",
    "            print(\"You are not a user\")\n",
    "\n",
    "    def increase_capacity(self, number):\n",
    "        self.storage += number\n",
    "        print(\"Updated storage is :\" , self.storage)\n",
    "\n",
    "    def check_update(self):\n",
    "        if self.users >= self.storage:\n",
    "            upgrade_amt = int(input(\"upgrade amount: \"))\n",
    "            self.storage += upgrade_amt\n",
    "        else:\n",
    "            print(\"You still have :\", str(self.storage - self.users))\n",
    "product_one = App(35, 256, 'owner')\n",
    "product_one.login()\n",
    "\n",
    "product_one.increase_capacity(44)\n",
    "\n",
    "product_two = App(12, 128, 'josh')\n",
    "product_two.login()\n",
    "product_two.check_update()\n"
   ]
  },
  {
   "cell_type": "code",
   "execution_count": null,
   "id": "d0ea9e15-aaae-4591-9093-89e2831f4f7b",
   "metadata": {},
   "outputs": [],
   "source": []
  }
 ],
 "metadata": {
  "kernelspec": {
   "display_name": "Python 3 (ipykernel)",
   "language": "python",
   "name": "python3"
  },
  "language_info": {
   "codemirror_mode": {
    "name": "ipython",
    "version": 3
   },
   "file_extension": ".py",
   "mimetype": "text/x-python",
   "name": "python",
   "nbconvert_exporter": "python",
   "pygments_lexer": "ipython3",
   "version": "3.11.7"
  }
 },
 "nbformat": 4,
 "nbformat_minor": 5
}
