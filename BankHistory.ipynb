{
 "cells": [
  {
   "cell_type": "code",
   "execution_count": 20,
   "id": "92eadd8b-3676-4bb2-b4d4-e892b5924196",
   "metadata": {},
   "outputs": [
    {
     "name": "stdout",
     "output_type": "stream",
     "text": [
      "Deposit: 2500\n",
      "Withdrawal: 650\n",
      "balance: 6850\n",
      "Interest: 548.0\n"
     ]
    }
   ],
   "source": [
    "class Account:\n",
    "    def __init__(self, act_num, balance):\n",
    "        self.act_num = act_num\n",
    "        self.balance = balance\n",
    "\n",
    "    def deposit(self, amount):\n",
    "        self.balance += amount\n",
    "\n",
    "    def withdraw(self, amount):\n",
    "        if self.balance >= amount:\n",
    "            self.balance -= amount\n",
    "        else:\n",
    "            print(\"Insufficient balance. Current balance is {self.balance}.\")\n",
    "            \n",
    "    def get_balance(self):\n",
    "        return self.balance\n",
    "\n",
    "class InterestAccount(Account):\n",
    "    def __init__(self, act_num, balance, interest_rate):\n",
    "        # we could use Account.__init__(act_num, balance)\n",
    "        super().__init__(act_num, balance)\n",
    "        self.interest_rate = interest_rate\n",
    "\n",
    "    def calc_interest(self):\n",
    "        return self.balance * self.interest_rate\n",
    "\n",
    "class Transactions:\n",
    "    def __init__(self):\n",
    "        self.transactions = []\n",
    "\n",
    "    def add_transaction(self, transaction):\n",
    "        self.transactions.append(transaction)\n",
    "\n",
    "    def history(self):\n",
    "        for transaction in self.transactions:\n",
    "            print(transaction)\n",
    "\n",
    "class SavingsAccount(InterestAccount,Transactions):\n",
    "    def __init__ (self,act_num, balance, interest_rate):\n",
    "        InterestAccount.__init__(self,act_num, balance, interest_rate)\n",
    "        Transactions.__init__(self)\n",
    "\n",
    "savings = SavingsAccount(\"SA001\", 5000, 0.08)\n",
    "savings.deposit(2500)\n",
    "savings.withdraw(650)\n",
    "interest = savings.calc_interest()\n",
    "balance = savings.get_balance()\n",
    "\n",
    "savings.add_transaction(\"Deposit: 2500\")\n",
    "savings.add_transaction(\"Withdrawal: 650\")\n",
    "savings.history()\n",
    "\n",
    "print(\"balance:\", balance)\n",
    "print(\"Interest:\", interest)\n",
    "\n",
    "\n",
    "        "
   ]
  },
  {
   "cell_type": "code",
   "execution_count": null,
   "id": "659e9129-1a7d-4807-833f-bd2ee3b48ab6",
   "metadata": {},
   "outputs": [],
   "source": []
  }
 ],
 "metadata": {
  "kernelspec": {
   "display_name": "Python 3 (ipykernel)",
   "language": "python",
   "name": "python3"
  },
  "language_info": {
   "codemirror_mode": {
    "name": "ipython",
    "version": 3
   },
   "file_extension": ".py",
   "mimetype": "text/x-python",
   "name": "python",
   "nbconvert_exporter": "python",
   "pygments_lexer": "ipython3",
   "version": "3.11.7"
  }
 },
 "nbformat": 4,
 "nbformat_minor": 5
}
