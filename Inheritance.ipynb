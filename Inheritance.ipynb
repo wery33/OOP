{
 "cells": [
  {
   "cell_type": "code",
   "execution_count": 27,
   "id": "4b87af6e-542a-4da6-ad65-9875c734016a",
   "metadata": {},
   "outputs": [
    {
     "name": "stdin",
     "output_type": "stream",
     "text": [
      "Enter no of animals: 1\n",
      "Enter a region:  Asia\n",
      "Enter a Species:  snake\n",
      "Enter a color:  green\n",
      "Is it Dangerous:  yes\n"
     ]
    },
    {
     "name": "stdout",
     "output_type": "stream",
     "text": [
      "Animal Passprot: \n",
      "Found in :Asia\n",
      "Species: Tiger\n",
      "Color: Orange\n",
      "Dangerous: True\n",
      "This is a Tiger from Asia\n"
     ]
    },
    {
     "name": "stdin",
     "output_type": "stream",
     "text": [
      "Enter a region:  Asia\n"
     ]
    },
    {
     "name": "stdout",
     "output_type": "stream",
     "text": [
      "Species: snake\n"
     ]
    }
   ],
   "source": [
    " class Animal:\n",
    "     def __init__(self, region, animal_type, color, lethal):\n",
    "         self.region = region\n",
    "         self.animal_type = animal_type\n",
    "         self.color = color\n",
    "         self.lethal = lethal\n",
    "\n",
    "     def animal_bio(self):\n",
    "        print(\"Animal Passprot: \")\n",
    "        print(f'Found in :{self.region}')\n",
    "        print(f'Species: {self.animal_type}')\n",
    "        print(f'Color: {self.color}')\n",
    "        print(f\"Dangerous: {self.lethal}\")\n",
    "\n",
    "class Clinic(Animal):\n",
    "    def animal_info(self):\n",
    "        print(f'This is a {self.animal_type} from {self.region}')\n",
    "\n",
    "    def search(self, animals):\n",
    "        region = input(\"Enter a region: \").lower()\n",
    "        for animal in animals:\n",
    "            if animal.region == region:\n",
    "                print(f'Species: {animal.animal_type}')\n",
    "\n",
    "animals = []\n",
    "amt_animals = int(input(\"Enter no of animals:\"))\n",
    "for i in range(amt_animals):\n",
    "    region = input(\"Enter a region: \").lower()\n",
    "    species = input(\"Enter a Species: \").lower()\n",
    "    color = input(\"Enter a color: \").lower()\n",
    "    lethal = input(\"Is it Dangerous: \").lower()\n",
    "    lethal = lethal == \"yes\"\n",
    "\n",
    "    animal = Animal(region, species, color, lethal)\n",
    "    animals.append(animal)\n",
    "\n",
    "clinic = Clinic(\"Asia\", \"Tiger\", \"Orange\", True)\n",
    "\n",
    "clinic.animal_bio()\n",
    "clinic.animal_info()\n",
    "clinic.search(animals)\n",
    "\n",
    "\n",
    "                \n"
   ]
  },
  {
   "cell_type": "code",
   "execution_count": null,
   "id": "267e9598-965a-491b-a6d4-c7cad63563e9",
   "metadata": {},
   "outputs": [],
   "source": []
  },
  {
   "cell_type": "code",
   "execution_count": null,
   "id": "c40c67ae-a563-4245-b2f7-8f05b259b645",
   "metadata": {},
   "outputs": [],
   "source": []
  }
 ],
 "metadata": {
  "kernelspec": {
   "display_name": "Python 3 (ipykernel)",
   "language": "python",
   "name": "python3"
  },
  "language_info": {
   "codemirror_mode": {
    "name": "ipython",
    "version": 3
   },
   "file_extension": ".py",
   "mimetype": "text/x-python",
   "name": "python",
   "nbconvert_exporter": "python",
   "pygments_lexer": "ipython3",
   "version": "3.11.7"
  }
 },
 "nbformat": 4,
 "nbformat_minor": 5
}
